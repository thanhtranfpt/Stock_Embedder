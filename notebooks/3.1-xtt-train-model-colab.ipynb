{
  "metadata": {
    "kernelspec": {
      "display_name": "Python 3",
      "name": "python3"
    },
    "language_info": {
      "name": "python",
      "version": "3.10.14",
      "mimetype": "text/x-python",
      "codemirror_mode": {
        "name": "ipython",
        "version": 3
      },
      "pygments_lexer": "ipython3",
      "nbconvert_exporter": "python",
      "file_extension": ".py"
    },
    "kaggle": {
      "accelerator": "nvidiaTeslaT4",
      "dataSources": [],
      "dockerImageVersionId": 30787,
      "isInternetEnabled": true,
      "language": "python",
      "sourceType": "notebook",
      "isGpuEnabled": true
    },
    "colab": {
      "provenance": [],
      "gpuType": "T4"
    },
    "accelerator": "GPU"
  },
  "nbformat_minor": 0,
  "nbformat": 4,
  "cells": [
    {
      "cell_type": "code",
      "source": [
        "from google.colab import drive\n",
        "drive.mount('/content/drive')"
      ],
      "metadata": {
        "colab": {
          "base_uri": "https://localhost:8080/"
        },
        "id": "0YQu-v3Qesuu",
        "outputId": "84a55dce-1245-4256-8d1e-befdfc0f4d98"
      },
      "execution_count": 11,
      "outputs": [
        {
          "output_type": "stream",
          "name": "stdout",
          "text": [
            "Mounted at /content/drive\n"
          ]
        }
      ]
    },
    {
      "cell_type": "markdown",
      "source": [
        "# Config"
      ],
      "metadata": {
        "id": "N0MQVRbpd4oa"
      }
    },
    {
      "cell_type": "code",
      "source": [
        "cfg = \"\"\"{\n",
        "    \"model_name\": \"Stock_Embedder_Lightning\",\n",
        "    \"training\": {\n",
        "        \"resume\": true,\n",
        "        \"checkpoint_path\": \"/content/models/pretrained/ver_1/best.ckpt\"\n",
        "    },\n",
        "    \"trainer\": {\n",
        "        \"min_epochs\": 1,\n",
        "        \"max_epochs\": 5,\n",
        "        \"max_steps\": -1\n",
        "    },\n",
        "    \"dataset\": {\n",
        "        \"stock_file\": \"/content/data/processed/ver_2/all.csv\",\n",
        "        \"create_new_scaler\": true,\n",
        "        \"scaler_load_path\": null\n",
        "    },\n",
        "    \"dataloaders\": {\n",
        "        \"split_ratio\": {\n",
        "            \"train\": 0.8,\n",
        "            \"val\": 0.1,\n",
        "            \"test\": 0.1\n",
        "        },\n",
        "        \"batch_size\": 1024\n",
        "    },\n",
        "    \"stock_embedder_lightning\": {\n",
        "        \"training\": {\n",
        "            \"mode\": 3\n",
        "        }\n",
        "    },\n",
        "    \"output_dir\": \"/content/drive/MyDrive/T/Stock_Embedder/models/trained_models/ver_1_7\",\n",
        "    \"verbose\": true\n",
        "}\"\"\""
      ],
      "metadata": {
        "execution": {
          "iopub.status.busy": "2024-10-16T13:00:21.321077Z",
          "iopub.execute_input": "2024-10-16T13:00:21.321414Z",
          "iopub.status.idle": "2024-10-16T13:00:21.333899Z",
          "shell.execute_reply.started": "2024-10-16T13:00:21.321377Z",
          "shell.execute_reply": "2024-10-16T13:00:21.332909Z"
        },
        "trusted": true,
        "id": "mjdcUYjFd4oe"
      },
      "execution_count": 12,
      "outputs": []
    },
    {
      "cell_type": "markdown",
      "source": [
        "# Setup"
      ],
      "metadata": {
        "id": "hd-HJ3CUd4og"
      }
    },
    {
      "cell_type": "code",
      "source": [
        "!pip install gdown"
      ],
      "metadata": {
        "_uuid": "8f2839f25d086af736a60e9eeb907d3b93b6e0e5",
        "_cell_guid": "b1076dfc-b9ad-4769-8c92-a6c4dae69d19",
        "execution": {
          "iopub.status.busy": "2024-10-16T13:00:24.441059Z",
          "iopub.execute_input": "2024-10-16T13:00:24.441588Z",
          "iopub.status.idle": "2024-10-16T13:00:37.681885Z",
          "shell.execute_reply.started": "2024-10-16T13:00:24.441531Z",
          "shell.execute_reply": "2024-10-16T13:00:37.680576Z"
        },
        "trusted": true,
        "colab": {
          "base_uri": "https://localhost:8080/"
        },
        "id": "sivT0s-Md4og",
        "outputId": "9c44994d-513d-481d-acd3-6a570a66ee69"
      },
      "execution_count": 2,
      "outputs": [
        {
          "output_type": "stream",
          "name": "stdout",
          "text": [
            "Requirement already satisfied: gdown in /usr/local/lib/python3.10/dist-packages (5.2.0)\n",
            "Requirement already satisfied: beautifulsoup4 in /usr/local/lib/python3.10/dist-packages (from gdown) (4.12.3)\n",
            "Requirement already satisfied: filelock in /usr/local/lib/python3.10/dist-packages (from gdown) (3.16.1)\n",
            "Requirement already satisfied: requests[socks] in /usr/local/lib/python3.10/dist-packages (from gdown) (2.32.3)\n",
            "Requirement already satisfied: tqdm in /usr/local/lib/python3.10/dist-packages (from gdown) (4.66.5)\n",
            "Requirement already satisfied: soupsieve>1.2 in /usr/local/lib/python3.10/dist-packages (from beautifulsoup4->gdown) (2.6)\n",
            "Requirement already satisfied: charset-normalizer<4,>=2 in /usr/local/lib/python3.10/dist-packages (from requests[socks]->gdown) (3.4.0)\n",
            "Requirement already satisfied: idna<4,>=2.5 in /usr/local/lib/python3.10/dist-packages (from requests[socks]->gdown) (3.10)\n",
            "Requirement already satisfied: urllib3<3,>=1.21.1 in /usr/local/lib/python3.10/dist-packages (from requests[socks]->gdown) (2.2.3)\n",
            "Requirement already satisfied: certifi>=2017.4.17 in /usr/local/lib/python3.10/dist-packages (from requests[socks]->gdown) (2024.8.30)\n",
            "Requirement already satisfied: PySocks!=1.5.7,>=1.5.6 in /usr/local/lib/python3.10/dist-packages (from requests[socks]->gdown) (1.7.1)\n"
          ]
        }
      ]
    },
    {
      "cell_type": "code",
      "source": [
        "!gdown 1s6OIiBTI6ycrRvEnL_f7MviE3ugLcnOW"
      ],
      "metadata": {
        "execution": {
          "iopub.status.busy": "2024-10-16T13:00:37.684200Z",
          "iopub.execute_input": "2024-10-16T13:00:37.684584Z",
          "iopub.status.idle": "2024-10-16T13:00:42.926537Z",
          "shell.execute_reply.started": "2024-10-16T13:00:37.684540Z",
          "shell.execute_reply": "2024-10-16T13:00:42.925567Z"
        },
        "trusted": true,
        "colab": {
          "base_uri": "https://localhost:8080/"
        },
        "id": "c4pEoWuvd4oh",
        "outputId": "24295d16-3525-4171-94e9-a38648a2fa81"
      },
      "execution_count": 3,
      "outputs": [
        {
          "output_type": "stream",
          "name": "stdout",
          "text": [
            "Downloading...\n",
            "From: https://drive.google.com/uc?id=1s6OIiBTI6ycrRvEnL_f7MviE3ugLcnOW\n",
            "To: /content/Stock_Embedder.zip\n",
            "\r  0% 0.00/52.8k [00:00<?, ?B/s]\r100% 52.8k/52.8k [00:00<00:00, 60.3MB/s]\n"
          ]
        }
      ]
    },
    {
      "cell_type": "code",
      "source": [
        "!unzip /content/Stock_Embedder.zip"
      ],
      "metadata": {
        "execution": {
          "iopub.status.busy": "2024-10-16T13:00:42.927939Z",
          "iopub.execute_input": "2024-10-16T13:00:42.928255Z",
          "iopub.status.idle": "2024-10-16T13:00:43.945041Z",
          "shell.execute_reply.started": "2024-10-16T13:00:42.928212Z",
          "shell.execute_reply": "2024-10-16T13:00:43.944032Z"
        },
        "trusted": true,
        "colab": {
          "base_uri": "https://localhost:8080/"
        },
        "id": "QqcE4mnHd4oh",
        "outputId": "9d4b3627-bc16-462b-b4dd-ea06af17d778"
      },
      "execution_count": 4,
      "outputs": [
        {
          "output_type": "stream",
          "name": "stdout",
          "text": [
            "Archive:  /content/Stock_Embedder.zip\n",
            "  inflating: README.md               \n",
            "  inflating: requirements.txt        \n",
            "   creating: data/\n",
            "   creating: data/external/\n",
            "  inflating: data/external/README.md  \n",
            "   creating: data/external/ver_2/\n",
            "  inflating: data/external/ver_2/readme.md  \n",
            "   creating: data/processed/\n",
            "  inflating: data/processed/README.md  \n",
            "   creating: data/processed/ver_2/\n",
            "  inflating: data/processed/ver_2/readme.md  \n",
            "   creating: models/\n",
            "   creating: models/model_summaries/\n",
            "   creating: models/model_summaries/ver_2_1/\n",
            " extracting: models/model_summaries/ver_2_1/readme.md  \n",
            "   creating: models/pretrained/\n",
            "   creating: models/pretrained/ver_1/\n",
            "  inflating: models/pretrained/ver_1/readme.md  \n",
            "   creating: models/trained_models/\n",
            "   creating: models/trained_models/ver_2_1/\n",
            " extracting: models/trained_models/ver_2_1/readme.md  \n",
            "   creating: notebooks/\n",
            "  inflating: notebooks/1.0-xtt-data-preprocessing.ipynb  \n",
            "   creating: notebooks/bk/\n",
            "  inflating: notebooks/bk/2.0-xtt-fine-tune-hyper-parameters.ipynb  \n",
            "   creating: src/\n",
            "   creating: src/data/\n",
            "  inflating: src/data/make_dataset.py  \n",
            "   creating: src/models/\n",
            "  inflating: src/models/stock_embedder.py  \n",
            "  inflating: src/models/stock_embedding_core.py  \n",
            "  inflating: src/models/utils.py     \n",
            "   creating: src/predict_model/\n",
            "  inflating: src/predict_model/config.json  \n",
            "  inflating: src/predict_model/main.py  \n",
            "   creating: src/train_model/\n",
            "  inflating: src/train_model/config.json  \n",
            "  inflating: src/train_model/main.py  \n",
            "  inflating: src/train_model/readme.md  \n",
            "  inflating: src/train_model/utils.py  \n",
            "   creating: src/utils/\n",
            "  inflating: src/utils/logger_config.py  \n"
          ]
        }
      ]
    },
    {
      "cell_type": "code",
      "source": [
        "!cd /content/ && pip install -r requirements.txt"
      ],
      "metadata": {
        "execution": {
          "iopub.status.busy": "2024-10-16T13:01:02.550452Z",
          "iopub.execute_input": "2024-10-16T13:01:02.551243Z",
          "iopub.status.idle": "2024-10-16T13:01:14.983054Z",
          "shell.execute_reply.started": "2024-10-16T13:01:02.551199Z",
          "shell.execute_reply": "2024-10-16T13:01:14.981798Z"
        },
        "trusted": true,
        "colab": {
          "base_uri": "https://localhost:8080/"
        },
        "id": "MG_p04Yjd4oh",
        "outputId": "2667f428-4e4d-4d33-b5e5-f850f984be2d"
      },
      "execution_count": 5,
      "outputs": [
        {
          "output_type": "stream",
          "name": "stdout",
          "text": [
            "Requirement already satisfied: numpy in /usr/local/lib/python3.10/dist-packages (from -r requirements.txt (line 1)) (1.26.4)\n",
            "Requirement already satisfied: pandas in /usr/local/lib/python3.10/dist-packages (from -r requirements.txt (line 2)) (2.2.2)\n",
            "Collecting jsons (from -r requirements.txt (line 3))\n",
            "  Downloading jsons-1.6.3-py3-none-any.whl.metadata (9.3 kB)\n",
            "Collecting pytorch-lightning (from -r requirements.txt (line 4))\n",
            "  Downloading pytorch_lightning-2.4.0-py3-none-any.whl.metadata (21 kB)\n",
            "Collecting lightning (from -r requirements.txt (line 6))\n",
            "  Downloading lightning-2.4.0-py3-none-any.whl.metadata (38 kB)\n",
            "Collecting wandb (from -r requirements.txt (line 7))\n",
            "  Downloading wandb-0.18.3-py3-none-manylinux_2_17_x86_64.manylinux2014_x86_64.whl.metadata (9.7 kB)\n",
            "Requirement already satisfied: scikit-learn in /usr/local/lib/python3.10/dist-packages (from -r requirements.txt (line 8)) (1.5.2)\n",
            "Requirement already satisfied: joblib in /usr/local/lib/python3.10/dist-packages (from -r requirements.txt (line 9)) (1.4.2)\n",
            "Requirement already satisfied: scipy in /usr/local/lib/python3.10/dist-packages (from -r requirements.txt (line 10)) (1.13.1)\n",
            "Requirement already satisfied: tqdm in /usr/local/lib/python3.10/dist-packages (from -r requirements.txt (line 11)) (4.66.5)\n",
            "Requirement already satisfied: einops in /usr/local/lib/python3.10/dist-packages (from -r requirements.txt (line 12)) (0.8.0)\n",
            "Requirement already satisfied: python-dateutil>=2.8.2 in /usr/local/lib/python3.10/dist-packages (from pandas->-r requirements.txt (line 2)) (2.8.2)\n",
            "Requirement already satisfied: pytz>=2020.1 in /usr/local/lib/python3.10/dist-packages (from pandas->-r requirements.txt (line 2)) (2024.2)\n",
            "Requirement already satisfied: tzdata>=2022.7 in /usr/local/lib/python3.10/dist-packages (from pandas->-r requirements.txt (line 2)) (2024.2)\n",
            "Collecting typish>=1.9.2 (from jsons->-r requirements.txt (line 3))\n",
            "  Downloading typish-1.9.3-py3-none-any.whl.metadata (7.2 kB)\n",
            "Requirement already satisfied: torch>=2.1.0 in /usr/local/lib/python3.10/dist-packages (from pytorch-lightning->-r requirements.txt (line 4)) (2.4.1+cu121)\n",
            "Requirement already satisfied: PyYAML>=5.4 in /usr/local/lib/python3.10/dist-packages (from pytorch-lightning->-r requirements.txt (line 4)) (6.0.2)\n",
            "Requirement already satisfied: fsspec>=2022.5.0 in /usr/local/lib/python3.10/dist-packages (from fsspec[http]>=2022.5.0->pytorch-lightning->-r requirements.txt (line 4)) (2024.6.1)\n",
            "Collecting torchmetrics>=0.7.0 (from pytorch-lightning->-r requirements.txt (line 4))\n",
            "  Downloading torchmetrics-1.4.3-py3-none-any.whl.metadata (19 kB)\n",
            "Requirement already satisfied: packaging>=20.0 in /usr/local/lib/python3.10/dist-packages (from pytorch-lightning->-r requirements.txt (line 4)) (24.1)\n",
            "Requirement already satisfied: typing-extensions>=4.4.0 in /usr/local/lib/python3.10/dist-packages (from pytorch-lightning->-r requirements.txt (line 4)) (4.12.2)\n",
            "Collecting lightning-utilities>=0.10.0 (from pytorch-lightning->-r requirements.txt (line 4))\n",
            "  Downloading lightning_utilities-0.11.8-py3-none-any.whl.metadata (5.2 kB)\n",
            "Requirement already satisfied: click!=8.0.0,>=7.1 in /usr/local/lib/python3.10/dist-packages (from wandb->-r requirements.txt (line 7)) (8.1.7)\n",
            "Collecting docker-pycreds>=0.4.0 (from wandb->-r requirements.txt (line 7))\n",
            "  Downloading docker_pycreds-0.4.0-py2.py3-none-any.whl.metadata (1.8 kB)\n",
            "Collecting gitpython!=3.1.29,>=1.0.0 (from wandb->-r requirements.txt (line 7))\n",
            "  Downloading GitPython-3.1.43-py3-none-any.whl.metadata (13 kB)\n",
            "Requirement already satisfied: platformdirs in /usr/local/lib/python3.10/dist-packages (from wandb->-r requirements.txt (line 7)) (4.3.6)\n",
            "Requirement already satisfied: protobuf!=4.21.0,!=5.28.0,<6,>=3.19.0 in /usr/local/lib/python3.10/dist-packages (from wandb->-r requirements.txt (line 7)) (3.20.3)\n",
            "Requirement already satisfied: psutil>=5.0.0 in /usr/local/lib/python3.10/dist-packages (from wandb->-r requirements.txt (line 7)) (5.9.5)\n",
            "Requirement already satisfied: requests<3,>=2.0.0 in /usr/local/lib/python3.10/dist-packages (from wandb->-r requirements.txt (line 7)) (2.32.3)\n",
            "Collecting sentry-sdk>=1.0.0 (from wandb->-r requirements.txt (line 7))\n",
            "  Downloading sentry_sdk-2.16.0-py2.py3-none-any.whl.metadata (9.8 kB)\n",
            "Collecting setproctitle (from wandb->-r requirements.txt (line 7))\n",
            "  Downloading setproctitle-1.3.3-cp310-cp310-manylinux_2_5_x86_64.manylinux1_x86_64.manylinux_2_17_x86_64.manylinux2014_x86_64.whl.metadata (9.9 kB)\n",
            "Requirement already satisfied: setuptools in /usr/local/lib/python3.10/dist-packages (from wandb->-r requirements.txt (line 7)) (71.0.4)\n",
            "Requirement already satisfied: threadpoolctl>=3.1.0 in /usr/local/lib/python3.10/dist-packages (from scikit-learn->-r requirements.txt (line 8)) (3.5.0)\n",
            "Requirement already satisfied: six>=1.4.0 in /usr/local/lib/python3.10/dist-packages (from docker-pycreds>=0.4.0->wandb->-r requirements.txt (line 7)) (1.16.0)\n",
            "Requirement already satisfied: aiohttp!=4.0.0a0,!=4.0.0a1 in /usr/local/lib/python3.10/dist-packages (from fsspec[http]>=2022.5.0->pytorch-lightning->-r requirements.txt (line 4)) (3.10.10)\n",
            "Collecting gitdb<5,>=4.0.1 (from gitpython!=3.1.29,>=1.0.0->wandb->-r requirements.txt (line 7))\n",
            "  Downloading gitdb-4.0.11-py3-none-any.whl.metadata (1.2 kB)\n",
            "Requirement already satisfied: charset-normalizer<4,>=2 in /usr/local/lib/python3.10/dist-packages (from requests<3,>=2.0.0->wandb->-r requirements.txt (line 7)) (3.4.0)\n",
            "Requirement already satisfied: idna<4,>=2.5 in /usr/local/lib/python3.10/dist-packages (from requests<3,>=2.0.0->wandb->-r requirements.txt (line 7)) (3.10)\n",
            "Requirement already satisfied: urllib3<3,>=1.21.1 in /usr/local/lib/python3.10/dist-packages (from requests<3,>=2.0.0->wandb->-r requirements.txt (line 7)) (2.2.3)\n",
            "Requirement already satisfied: certifi>=2017.4.17 in /usr/local/lib/python3.10/dist-packages (from requests<3,>=2.0.0->wandb->-r requirements.txt (line 7)) (2024.8.30)\n",
            "Requirement already satisfied: filelock in /usr/local/lib/python3.10/dist-packages (from torch>=2.1.0->pytorch-lightning->-r requirements.txt (line 4)) (3.16.1)\n",
            "Requirement already satisfied: sympy in /usr/local/lib/python3.10/dist-packages (from torch>=2.1.0->pytorch-lightning->-r requirements.txt (line 4)) (1.13.3)\n",
            "Requirement already satisfied: networkx in /usr/local/lib/python3.10/dist-packages (from torch>=2.1.0->pytorch-lightning->-r requirements.txt (line 4)) (3.4)\n",
            "Requirement already satisfied: jinja2 in /usr/local/lib/python3.10/dist-packages (from torch>=2.1.0->pytorch-lightning->-r requirements.txt (line 4)) (3.1.4)\n",
            "Requirement already satisfied: aiohappyeyeballs>=2.3.0 in /usr/local/lib/python3.10/dist-packages (from aiohttp!=4.0.0a0,!=4.0.0a1->fsspec[http]>=2022.5.0->pytorch-lightning->-r requirements.txt (line 4)) (2.4.3)\n",
            "Requirement already satisfied: aiosignal>=1.1.2 in /usr/local/lib/python3.10/dist-packages (from aiohttp!=4.0.0a0,!=4.0.0a1->fsspec[http]>=2022.5.0->pytorch-lightning->-r requirements.txt (line 4)) (1.3.1)\n",
            "Requirement already satisfied: attrs>=17.3.0 in /usr/local/lib/python3.10/dist-packages (from aiohttp!=4.0.0a0,!=4.0.0a1->fsspec[http]>=2022.5.0->pytorch-lightning->-r requirements.txt (line 4)) (24.2.0)\n",
            "Requirement already satisfied: frozenlist>=1.1.1 in /usr/local/lib/python3.10/dist-packages (from aiohttp!=4.0.0a0,!=4.0.0a1->fsspec[http]>=2022.5.0->pytorch-lightning->-r requirements.txt (line 4)) (1.4.1)\n",
            "Requirement already satisfied: multidict<7.0,>=4.5 in /usr/local/lib/python3.10/dist-packages (from aiohttp!=4.0.0a0,!=4.0.0a1->fsspec[http]>=2022.5.0->pytorch-lightning->-r requirements.txt (line 4)) (6.1.0)\n",
            "Requirement already satisfied: yarl<2.0,>=1.12.0 in /usr/local/lib/python3.10/dist-packages (from aiohttp!=4.0.0a0,!=4.0.0a1->fsspec[http]>=2022.5.0->pytorch-lightning->-r requirements.txt (line 4)) (1.14.0)\n",
            "Requirement already satisfied: async-timeout<5.0,>=4.0 in /usr/local/lib/python3.10/dist-packages (from aiohttp!=4.0.0a0,!=4.0.0a1->fsspec[http]>=2022.5.0->pytorch-lightning->-r requirements.txt (line 4)) (4.0.3)\n",
            "Collecting smmap<6,>=3.0.1 (from gitdb<5,>=4.0.1->gitpython!=3.1.29,>=1.0.0->wandb->-r requirements.txt (line 7))\n",
            "  Downloading smmap-5.0.1-py3-none-any.whl.metadata (4.3 kB)\n",
            "Requirement already satisfied: MarkupSafe>=2.0 in /usr/local/lib/python3.10/dist-packages (from jinja2->torch>=2.1.0->pytorch-lightning->-r requirements.txt (line 4)) (3.0.1)\n",
            "Requirement already satisfied: mpmath<1.4,>=1.1.0 in /usr/local/lib/python3.10/dist-packages (from sympy->torch>=2.1.0->pytorch-lightning->-r requirements.txt (line 4)) (1.3.0)\n",
            "Requirement already satisfied: propcache>=0.2.0 in /usr/local/lib/python3.10/dist-packages (from yarl<2.0,>=1.12.0->aiohttp!=4.0.0a0,!=4.0.0a1->fsspec[http]>=2022.5.0->pytorch-lightning->-r requirements.txt (line 4)) (0.2.0)\n",
            "Downloading jsons-1.6.3-py3-none-any.whl (60 kB)\n",
            "\u001b[2K   \u001b[90m━━━━━━━━━━━━━━━━━━━━━━━━━━━━━━━━━━━━━━━━\u001b[0m \u001b[32m60.7/60.7 kB\u001b[0m \u001b[31m5.5 MB/s\u001b[0m eta \u001b[36m0:00:00\u001b[0m\n",
            "\u001b[?25hDownloading pytorch_lightning-2.4.0-py3-none-any.whl (815 kB)\n",
            "\u001b[2K   \u001b[90m━━━━━━━━━━━━━━━━━━━━━━━━━━━━━━━━━━━━━━━━\u001b[0m \u001b[32m815.2/815.2 kB\u001b[0m \u001b[31m43.3 MB/s\u001b[0m eta \u001b[36m0:00:00\u001b[0m\n",
            "\u001b[?25hDownloading lightning-2.4.0-py3-none-any.whl (810 kB)\n",
            "\u001b[2K   \u001b[90m━━━━━━━━━━━━━━━━━━━━━━━━━━━━━━━━━━━━━━━━\u001b[0m \u001b[32m811.0/811.0 kB\u001b[0m \u001b[31m54.8 MB/s\u001b[0m eta \u001b[36m0:00:00\u001b[0m\n",
            "\u001b[?25hDownloading wandb-0.18.3-py3-none-manylinux_2_17_x86_64.manylinux2014_x86_64.whl (13.0 MB)\n",
            "\u001b[2K   \u001b[90m━━━━━━━━━━━━━━━━━━━━━━━━━━━━━━━━━━━━━━━━\u001b[0m \u001b[32m13.0/13.0 MB\u001b[0m \u001b[31m103.0 MB/s\u001b[0m eta \u001b[36m0:00:00\u001b[0m\n",
            "\u001b[?25hDownloading docker_pycreds-0.4.0-py2.py3-none-any.whl (9.0 kB)\n",
            "Downloading GitPython-3.1.43-py3-none-any.whl (207 kB)\n",
            "\u001b[2K   \u001b[90m━━━━━━━━━━━━━━━━━━━━━━━━━━━━━━━━━━━━━━━━\u001b[0m \u001b[32m207.3/207.3 kB\u001b[0m \u001b[31m19.1 MB/s\u001b[0m eta \u001b[36m0:00:00\u001b[0m\n",
            "\u001b[?25hDownloading lightning_utilities-0.11.8-py3-none-any.whl (26 kB)\n",
            "Downloading sentry_sdk-2.16.0-py2.py3-none-any.whl (313 kB)\n",
            "\u001b[2K   \u001b[90m━━━━━━━━━━━━━━━━━━━━━━━━━━━━━━━━━━━━━━━━\u001b[0m \u001b[32m313.8/313.8 kB\u001b[0m \u001b[31m24.2 MB/s\u001b[0m eta \u001b[36m0:00:00\u001b[0m\n",
            "\u001b[?25hDownloading torchmetrics-1.4.3-py3-none-any.whl (869 kB)\n",
            "\u001b[2K   \u001b[90m━━━━━━━━━━━━━━━━━━━━━━━━━━━━━━━━━━━━━━━━\u001b[0m \u001b[32m869.5/869.5 kB\u001b[0m \u001b[31m55.0 MB/s\u001b[0m eta \u001b[36m0:00:00\u001b[0m\n",
            "\u001b[?25hDownloading typish-1.9.3-py3-none-any.whl (45 kB)\n",
            "\u001b[2K   \u001b[90m━━━━━━━━━━━━━━━━━━━━━━━━━━━━━━━━━━━━━━━━\u001b[0m \u001b[32m45.1/45.1 kB\u001b[0m \u001b[31m4.4 MB/s\u001b[0m eta \u001b[36m0:00:00\u001b[0m\n",
            "\u001b[?25hDownloading setproctitle-1.3.3-cp310-cp310-manylinux_2_5_x86_64.manylinux1_x86_64.manylinux_2_17_x86_64.manylinux2014_x86_64.whl (30 kB)\n",
            "Downloading gitdb-4.0.11-py3-none-any.whl (62 kB)\n",
            "\u001b[2K   \u001b[90m━━━━━━━━━━━━━━━━━━━━━━━━━━━━━━━━━━━━━━━━\u001b[0m \u001b[32m62.7/62.7 kB\u001b[0m \u001b[31m6.7 MB/s\u001b[0m eta \u001b[36m0:00:00\u001b[0m\n",
            "\u001b[?25hDownloading smmap-5.0.1-py3-none-any.whl (24 kB)\n",
            "Installing collected packages: typish, smmap, setproctitle, sentry-sdk, lightning-utilities, jsons, docker-pycreds, gitdb, torchmetrics, gitpython, wandb, pytorch-lightning, lightning\n",
            "Successfully installed docker-pycreds-0.4.0 gitdb-4.0.11 gitpython-3.1.43 jsons-1.6.3 lightning-2.4.0 lightning-utilities-0.11.8 pytorch-lightning-2.4.0 sentry-sdk-2.16.0 setproctitle-1.3.3 smmap-5.0.1 torchmetrics-1.4.3 typish-1.9.3 wandb-0.18.3\n"
          ]
        }
      ]
    },
    {
      "cell_type": "code",
      "source": [
        "!cd /content/models/pretrained/ver_1 && gdown --folder https://drive.google.com/drive/folders/1wL1GAkzCax71vM_7tXYlpiSFcGNVb20F?usp=drive_link"
      ],
      "metadata": {
        "execution": {
          "iopub.status.busy": "2024-10-16T13:01:14.985161Z",
          "iopub.execute_input": "2024-10-16T13:01:14.985560Z",
          "iopub.status.idle": "2024-10-16T13:01:23.393217Z",
          "shell.execute_reply.started": "2024-10-16T13:01:14.985518Z",
          "shell.execute_reply": "2024-10-16T13:01:23.392256Z"
        },
        "trusted": true,
        "colab": {
          "base_uri": "https://localhost:8080/"
        },
        "id": "WNFfiRMLd4oi",
        "outputId": "ed008366-d3a6-45dc-fded-2577c5d6116f"
      },
      "execution_count": 6,
      "outputs": [
        {
          "output_type": "stream",
          "name": "stdout",
          "text": [
            "Retrieving folder contents\n",
            "Processing file 1ctHGNMae2iSw4IcKyruKyJ-IgA5AcUnB best.ckpt\n",
            "Processing file 1l9NBNMweC8fKQOqXNY2q0us_MXISsF-5 readme.md\n",
            "Retrieving folder contents completed\n",
            "Building directory structure\n",
            "Building directory structure completed\n",
            "Downloading...\n",
            "From: https://drive.google.com/uc?id=1ctHGNMae2iSw4IcKyruKyJ-IgA5AcUnB\n",
            "To: /content/models/pretrained/ver_1/ver_1/best.ckpt\n",
            "100% 23.1k/23.1k [00:00<00:00, 76.0MB/s]\n",
            "Downloading...\n",
            "From: https://drive.google.com/uc?id=1l9NBNMweC8fKQOqXNY2q0us_MXISsF-5\n",
            "To: /content/models/pretrained/ver_1/ver_1/readme.md\n",
            "100% 113/113 [00:00<00:00, 666kB/s]\n",
            "Download completed\n"
          ]
        }
      ]
    },
    {
      "cell_type": "code",
      "source": [
        "!mv /content/models/pretrained/ver_1/ver_1/best.ckpt /content/models/pretrained/ver_1/best.ckpt"
      ],
      "metadata": {
        "execution": {
          "iopub.status.busy": "2024-10-16T13:01:23.394607Z",
          "iopub.execute_input": "2024-10-16T13:01:23.394939Z",
          "iopub.status.idle": "2024-10-16T13:01:24.400046Z",
          "shell.execute_reply.started": "2024-10-16T13:01:23.394901Z",
          "shell.execute_reply": "2024-10-16T13:01:24.398730Z"
        },
        "trusted": true,
        "id": "KhkOOi5Rd4oi"
      },
      "execution_count": 7,
      "outputs": []
    },
    {
      "cell_type": "code",
      "source": [
        "!cd /content/data/processed/ver_2 && gdown --folder https://drive.google.com/drive/folders/1_HPqG9OrtcBk6o4KLhqHuV8hnCztxUtT?usp=drive_link"
      ],
      "metadata": {
        "execution": {
          "iopub.status.busy": "2024-10-16T13:01:24.402485Z",
          "iopub.execute_input": "2024-10-16T13:01:24.402861Z",
          "iopub.status.idle": "2024-10-16T13:01:33.115891Z",
          "shell.execute_reply.started": "2024-10-16T13:01:24.402811Z",
          "shell.execute_reply": "2024-10-16T13:01:33.114926Z"
        },
        "trusted": true,
        "colab": {
          "base_uri": "https://localhost:8080/"
        },
        "id": "ejxaBh_0d4oi",
        "outputId": "7136931f-ba67-4211-aeaa-28dfd2f74ffd"
      },
      "execution_count": 8,
      "outputs": [
        {
          "output_type": "stream",
          "name": "stdout",
          "text": [
            "Retrieving folder contents\n",
            "Processing file 1iWcGjnD6JpONoJZI9UOHSEgUZkMOHROj all.csv\n",
            "Processing file 1hgPCKCJ7YPNnxI6zncD2wIDci7paSCVU readme.md\n",
            "Retrieving folder contents completed\n",
            "Building directory structure\n",
            "Building directory structure completed\n",
            "Downloading...\n",
            "From (original): https://drive.google.com/uc?id=1iWcGjnD6JpONoJZI9UOHSEgUZkMOHROj\n",
            "From (redirected): https://drive.google.com/uc?id=1iWcGjnD6JpONoJZI9UOHSEgUZkMOHROj&confirm=t&uuid=e2c47143-2ab6-4bfd-ac16-b0602f1832cf\n",
            "To: /content/data/processed/ver_2/ver_2/all.csv\n",
            "100% 200M/200M [00:01<00:00, 123MB/s]\n",
            "Downloading...\n",
            "From: https://drive.google.com/uc?id=1hgPCKCJ7YPNnxI6zncD2wIDci7paSCVU\n",
            "To: /content/data/processed/ver_2/ver_2/readme.md\n",
            "100% 442/442 [00:00<00:00, 2.03MB/s]\n",
            "Download completed\n"
          ]
        }
      ]
    },
    {
      "cell_type": "code",
      "source": [
        "!mv /content/data/processed/ver_2/ver_2/all.csv /content/data/processed/ver_2/all.csv"
      ],
      "metadata": {
        "execution": {
          "iopub.status.busy": "2024-10-16T13:01:33.117928Z",
          "iopub.execute_input": "2024-10-16T13:01:33.118349Z",
          "iopub.status.idle": "2024-10-16T13:01:34.142140Z",
          "shell.execute_reply.started": "2024-10-16T13:01:33.118298Z",
          "shell.execute_reply": "2024-10-16T13:01:34.141031Z"
        },
        "trusted": true,
        "id": "vT6JhSPed4oi"
      },
      "execution_count": 9,
      "outputs": []
    },
    {
      "cell_type": "code",
      "source": [
        "with open('/content/src/train_model/config.json', 'w', encoding = 'UTF-8') as f:\n",
        "    f.write(cfg)"
      ],
      "metadata": {
        "execution": {
          "iopub.status.busy": "2024-10-16T13:01:34.143828Z",
          "iopub.execute_input": "2024-10-16T13:01:34.144238Z",
          "iopub.status.idle": "2024-10-16T13:01:34.149981Z",
          "shell.execute_reply.started": "2024-10-16T13:01:34.144198Z",
          "shell.execute_reply": "2024-10-16T13:01:34.148835Z"
        },
        "trusted": true,
        "id": "ypuZhuy3d4oi"
      },
      "execution_count": 13,
      "outputs": []
    },
    {
      "cell_type": "markdown",
      "source": [
        "# Run"
      ],
      "metadata": {
        "id": "_VH7MySTd4oj"
      }
    },
    {
      "cell_type": "code",
      "source": [
        "!cd /content/ && python src/train_model/main.py --config_file=src/train_model/config.json"
      ],
      "metadata": {
        "colab": {
          "base_uri": "https://localhost:8080/"
        },
        "id": "Xo56Z9cLd4oj",
        "outputId": "84639ea8-2d5b-4651-f5e6-1a3a5e263074"
      },
      "execution_count": 14,
      "outputs": [
        {
          "output_type": "stream",
          "name": "stdout",
          "text": [
            "2024-10-16 13:20:14,826 - __main__ - INFO - Start Main Processing:\n",
            "/usr/local/lib/python3.10/dist-packages/lightning/fabric/connector.py:571: `precision=16` is supported for historical reasons but its usage is discouraged. Please set your precision to 16-mixed instead!\n",
            "Using 16bit Automatic Mixed Precision (AMP)\n",
            "GPU available: True (cuda), used: True\n",
            "TPU available: False, using: 0 TPU cores\n",
            "HPU available: False, using: 0 HPUs\n",
            "StockEmbeddingCore initialized\n",
            "StockEmbedderLightning initialized\n",
            "2024-10-16 13:20:15,065 - __main__ - INFO - StockEmbedderLightning created successfully\n",
            "100% 503/503 [01:08<00:00,  7.39it/s]\n",
            "2024-10-16 13:21:25,831 - __main__ - INFO - Dataset and Dataloaders created successfully.\n",
            "2024-10-16 13:21:25,832 - __main__ - INFO - Start Training\n",
            "2024-10-16 13:21:26.344315: E external/local_xla/xla/stream_executor/cuda/cuda_fft.cc:485] Unable to register cuFFT factory: Attempting to register factory for plugin cuFFT when one has already been registered\n",
            "2024-10-16 13:21:26.360915: E external/local_xla/xla/stream_executor/cuda/cuda_dnn.cc:8454] Unable to register cuDNN factory: Attempting to register factory for plugin cuDNN when one has already been registered\n",
            "2024-10-16 13:21:26.365736: E external/local_xla/xla/stream_executor/cuda/cuda_blas.cc:1452] Unable to register cuBLAS factory: Attempting to register factory for plugin cuBLAS when one has already been registered\n",
            "2024-10-16 13:21:26.378583: I tensorflow/core/platform/cpu_feature_guard.cc:210] This TensorFlow binary is optimized to use available CPU instructions in performance-critical operations.\n",
            "To enable the following instructions: AVX2 AVX512F FMA, in other operations, rebuild TensorFlow with the appropriate compiler flags.\n",
            "2024-10-16 13:21:27.677556: W tensorflow/compiler/tf2tensorrt/utils/py_utils.cc:38] TF-TRT Warning: Could not find TensorRT\n",
            "Restoring states from the checkpoint path at /content/models/pretrained/ver_1/best.ckpt\n",
            "/usr/local/lib/python3.10/dist-packages/lightning/pytorch/trainer/call.py:273: Be aware that when using `ckpt_path`, callbacks used to create the checkpoint need to be provided during `Trainer` instantiation. Please add the following callbacks: [\"ModelCheckpoint{'monitor': None, 'mode': 'min', 'every_n_train_steps': 0, 'every_n_epochs': 1, 'train_time_interval': None}\"].\n",
            "LOCAL_RANK: 0 - CUDA_VISIBLE_DEVICES: [0]\n",
            "\n",
            "  | Name      | Type               | Params | Mode \n",
            "---------------------------------------------------------\n",
            "0 | model     | StockEmbeddingCore | 2.7 K  | train\n",
            "1 | criterion | MSELoss            | 0      | train\n",
            "---------------------------------------------------------\n",
            "2.7 K     Trainable params\n",
            "0         Non-trainable params\n",
            "2.7 K     Total params\n",
            "0.011     Total estimated model params size (MB)\n",
            "11        Modules in train mode\n",
            "0         Modules in eval mode\n",
            "Restored all states from the checkpoint at /content/models/pretrained/ver_1/best.ckpt\n",
            "Epoch 0: 100% 1370/1370 [02:39<00:00,  8.57it/s, v_num=0, Loss/Train_step=8.1e-6] \n",
            "Validation: |          | 0/? [00:00<?, ?it/s]\u001b[A\n",
            "Validation:   0% 0/172 [00:00<?, ?it/s]      \u001b[A\n",
            "Validation DataLoader 0:   0% 0/172 [00:00<?, ?it/s]\u001b[A\n",
            "Validation DataLoader 0:  12% 20/172 [00:01<00:13, 11.10it/s]\u001b[A\n",
            "Validation DataLoader 0:  23% 40/172 [00:03<00:11, 11.18it/s]\u001b[A\n",
            "Validation DataLoader 0:  35% 60/172 [00:05<00:09, 11.21it/s]\u001b[A\n",
            "Validation DataLoader 0:  47% 80/172 [00:07<00:08, 11.02it/s]\u001b[A\n",
            "Validation DataLoader 0:  58% 100/172 [00:09<00:07, 10.00it/s]\u001b[A\n",
            "Validation DataLoader 0:  70% 120/172 [00:12<00:05,  9.87it/s]\u001b[A\n",
            "Validation DataLoader 0:  81% 140/172 [00:13<00:03, 10.00it/s]\u001b[A\n",
            "Validation DataLoader 0:  93% 160/172 [00:15<00:01, 10.11it/s]\u001b[A\n",
            "Validation DataLoader 0: 100% 172/172 [00:16<00:00, 10.21it/s]\u001b[A\n",
            "Epoch 0: 100% 1370/1370 [02:56<00:00,  7.75it/s, v_num=0, Loss/Train_step=8.1e-6, Loss/Val=5.63e-6, Loss/Train_epoch=8.05e-6]Epoch 0, global step 1370: 'Loss/Val' reached 0.00001 (best 0.00001), saving model to '/content/drive/MyDrive/T/Stock_Embedder/models/trained_models/ver_1_7/lightning_logs/tensorboard/Stock_Embedder_Lightning/version_0/checkpoints/epoch=0-step=1370-best-checkpoint.ckpt' as top 1\n",
            "Epoch 1: 100% 1370/1370 [02:42<00:00,  8.44it/s, v_num=0, Loss/Train_step=2.25e-6, Loss/Val=5.63e-6, Loss/Train_epoch=8.05e-6]\n",
            "Validation: |          | 0/? [00:00<?, ?it/s]\u001b[A\n",
            "Validation:   0% 0/172 [00:00<?, ?it/s]      \u001b[A\n",
            "Validation DataLoader 0:   0% 0/172 [00:00<?, ?it/s]\u001b[A\n",
            "Validation DataLoader 0:  12% 20/172 [00:01<00:14, 10.58it/s]\u001b[A\n",
            "Validation DataLoader 0:  23% 40/172 [00:03<00:12, 10.80it/s]\u001b[A\n",
            "Validation DataLoader 0:  35% 60/172 [00:05<00:10, 10.88it/s]\u001b[A\n",
            "Validation DataLoader 0:  47% 80/172 [00:07<00:08, 10.94it/s]\u001b[A\n",
            "Validation DataLoader 0:  58% 100/172 [00:09<00:06, 10.94it/s]\u001b[A\n",
            "Validation DataLoader 0:  70% 120/172 [00:11<00:04, 10.41it/s]\u001b[A\n",
            "Validation DataLoader 0:  81% 140/172 [00:14<00:03,  9.84it/s]\u001b[A\n",
            "Validation DataLoader 0:  93% 160/172 [00:15<00:01, 10.00it/s]\u001b[A\n",
            "Validation DataLoader 0: 100% 172/172 [00:17<00:00, 10.11it/s]\u001b[A\n",
            "Epoch 1: 100% 1370/1370 [02:59<00:00,  7.64it/s, v_num=0, Loss/Train_step=2.25e-6, Loss/Val=2.42e-6, Loss/Train_epoch=2.95e-6]Epoch 1, global step 2740: 'Loss/Val' reached 0.00000 (best 0.00000), saving model to '/content/drive/MyDrive/T/Stock_Embedder/models/trained_models/ver_1_7/lightning_logs/tensorboard/Stock_Embedder_Lightning/version_0/checkpoints/epoch=1-step=2740-best-checkpoint.ckpt' as top 1\n",
            "Epoch 2: 100% 1370/1370 [02:39<00:00,  8.59it/s, v_num=0, Loss/Train_step=2.14e-6, Loss/Val=2.42e-6, Loss/Train_epoch=2.95e-6]\n",
            "Validation: |          | 0/? [00:00<?, ?it/s]\u001b[A\n",
            "Validation:   0% 0/172 [00:00<?, ?it/s]      \u001b[A\n",
            "Validation DataLoader 0:   0% 0/172 [00:00<?, ?it/s]\u001b[A\n",
            "Validation DataLoader 0:  12% 20/172 [00:02<00:15,  9.75it/s]\u001b[A\n",
            "Validation DataLoader 0:  23% 40/172 [00:04<00:15,  8.28it/s]\u001b[A\n",
            "Validation DataLoader 0:  35% 60/172 [00:06<00:12,  8.78it/s]\u001b[A\n",
            "Validation DataLoader 0:  47% 80/172 [00:08<00:10,  8.98it/s]\u001b[A\n",
            "Validation DataLoader 0:  58% 100/172 [00:10<00:07,  9.33it/s]\u001b[A\n",
            "Validation DataLoader 0:  70% 120/172 [00:12<00:05,  9.58it/s]\u001b[A\n",
            "Validation DataLoader 0:  81% 140/172 [00:14<00:03,  9.79it/s]\u001b[A\n",
            "Validation DataLoader 0:  93% 160/172 [00:16<00:01,  9.73it/s]\u001b[A\n",
            "Validation DataLoader 0: 100% 172/172 [00:17<00:00,  9.57it/s]\u001b[A\n",
            "Epoch 2: 100% 1370/1370 [02:57<00:00,  7.72it/s, v_num=0, Loss/Train_step=2.14e-6, Loss/Val=2.46e-6, Loss/Train_epoch=2.4e-6] Epoch 2, global step 4110: 'Loss/Val' was not in top 1\n",
            "Epoch 3: 100% 1370/1370 [02:39<00:00,  8.60it/s, v_num=0, Loss/Train_step=1.36e-6, Loss/Val=2.46e-6, Loss/Train_epoch=2.4e-6]\n",
            "Validation: |          | 0/? [00:00<?, ?it/s]\u001b[A\n",
            "Validation:   0% 0/172 [00:00<?, ?it/s]      \u001b[A\n",
            "Validation DataLoader 0:   0% 0/172 [00:00<?, ?it/s]\u001b[A\n",
            "Validation DataLoader 0:  12% 20/172 [00:01<00:13, 11.18it/s]\u001b[A\n",
            "Validation DataLoader 0:  23% 40/172 [00:03<00:11, 11.10it/s]\u001b[A\n",
            "Validation DataLoader 0:  35% 60/172 [00:05<00:10, 10.48it/s]\u001b[A\n",
            "Validation DataLoader 0:  47% 80/172 [00:08<00:09,  9.37it/s]\u001b[A\n",
            "Validation DataLoader 0:  58% 100/172 [00:10<00:07,  9.51it/s]\u001b[A\n",
            "Validation DataLoader 0:  70% 120/172 [00:12<00:05,  9.72it/s]\u001b[A\n",
            "Validation DataLoader 0:  81% 140/172 [00:14<00:03,  9.88it/s]\u001b[A\n",
            "Validation DataLoader 0:  93% 160/172 [00:15<00:01, 10.03it/s]\u001b[A\n",
            "Validation DataLoader 0: 100% 172/172 [00:16<00:00, 10.14it/s]\u001b[A\n",
            "Epoch 3: 100% 1370/1370 [02:56<00:00,  7.78it/s, v_num=0, Loss/Train_step=1.36e-6, Loss/Val=2.42e-6, Loss/Train_epoch=2.52e-6]Epoch 3, global step 5480: 'Loss/Val' was not in top 1\n",
            "Epoch 4: 100% 1370/1370 [02:40<00:00,  8.55it/s, v_num=0, Loss/Train_step=1.56e-6, Loss/Val=2.42e-6, Loss/Train_epoch=2.52e-6]\n",
            "Validation: |          | 0/? [00:00<?, ?it/s]\u001b[A\n",
            "Validation:   0% 0/172 [00:00<?, ?it/s]      \u001b[A\n",
            "Validation DataLoader 0:   0% 0/172 [00:00<?, ?it/s]\u001b[A\n",
            "Validation DataLoader 0:  12% 20/172 [00:01<00:13, 11.16it/s]\u001b[A\n",
            "Validation DataLoader 0:  23% 40/172 [00:03<00:11, 11.09it/s]\u001b[A\n",
            "Validation DataLoader 0:  35% 60/172 [00:05<00:10, 11.05it/s]\u001b[A\n",
            "Validation DataLoader 0:  47% 80/172 [00:07<00:08, 11.06it/s]\u001b[A\n",
            "Validation DataLoader 0:  58% 100/172 [00:09<00:06, 10.79it/s]\u001b[A\n",
            "Validation DataLoader 0:  70% 120/172 [00:11<00:05, 10.02it/s]\u001b[A\n",
            "Validation DataLoader 0:  81% 140/172 [00:14<00:03,  9.97it/s]\u001b[A\n",
            "Validation DataLoader 0:  93% 160/172 [00:15<00:01, 10.05it/s]\u001b[A\n",
            "Validation DataLoader 0: 100% 172/172 [00:16<00:00, 10.15it/s]\u001b[A\n",
            "Epoch 4: 100% 1370/1370 [02:57<00:00,  7.73it/s, v_num=0, Loss/Train_step=1.56e-6, Loss/Val=2.3e-6, Loss/Train_epoch=2.23e-6]Epoch 4, global step 6850: 'Loss/Val' reached 0.00000 (best 0.00000), saving model to '/content/drive/MyDrive/T/Stock_Embedder/models/trained_models/ver_1_7/lightning_logs/tensorboard/Stock_Embedder_Lightning/version_0/checkpoints/epoch=4-step=6850-best-checkpoint.ckpt' as top 1\n",
            "`Trainer.fit` stopped: `max_epochs=5` reached.\n",
            "Epoch 4: 100% 1370/1370 [02:57<00:00,  7.73it/s, v_num=0, Loss/Train_step=1.56e-6, Loss/Val=2.3e-6, Loss/Train_epoch=2.23e-6]\n",
            "2024-10-16 13:36:17,252 - __main__ - INFO - Completed Training.\n",
            "Restoring states from the checkpoint path at /content/drive/MyDrive/T/Stock_Embedder/models/trained_models/ver_1_7/lightning_logs/tensorboard/Stock_Embedder_Lightning/version_0/checkpoints/epoch=4-step=6850-best-checkpoint.ckpt\n",
            "LOCAL_RANK: 0 - CUDA_VISIBLE_DEVICES: [0]\n",
            "Loaded model weights from the checkpoint at /content/drive/MyDrive/T/Stock_Embedder/models/trained_models/ver_1_7/lightning_logs/tensorboard/Stock_Embedder_Lightning/version_0/checkpoints/epoch=4-step=6850-best-checkpoint.ckpt\n",
            "Testing DataLoader 0: 100% 172/172 [00:14<00:00, 11.99it/s]\n",
            "┏━━━━━━━━━━━━━━━━━━━━━━━━━━━┳━━━━━━━━━━━━━━━━━━━━━━━━━━━┓\n",
            "┃\u001b[1m \u001b[0m\u001b[1m       Test metric       \u001b[0m\u001b[1m \u001b[0m┃\u001b[1m \u001b[0m\u001b[1m      DataLoader 0       \u001b[0m\u001b[1m \u001b[0m┃\n",
            "┡━━━━━━━━━━━━━━━━━━━━━━━━━━━╇━━━━━━━━━━━━━━━━━━━━━━━━━━━┩\n",
            "│\u001b[36m \u001b[0m\u001b[36m        Loss/Test        \u001b[0m\u001b[36m \u001b[0m│\u001b[35m \u001b[0m\u001b[35m 2.0546992800518638e-06  \u001b[0m\u001b[35m \u001b[0m│\n",
            "└───────────────────────────┴───────────────────────────┘\n",
            "2024-10-16 13:36:31,641 - __main__ - INFO - Done Testing.\n",
            "2024-10-16 13:36:31,646 - __main__ - INFO - Saved config.\n",
            "2024-10-16 13:36:31,663 - __main__ - INFO - Finished!\n"
          ]
        }
      ]
    },
    {
      "cell_type": "code",
      "source": [],
      "metadata": {
        "id": "mEJuJAXBfEa5"
      },
      "execution_count": null,
      "outputs": []
    }
  ]
}